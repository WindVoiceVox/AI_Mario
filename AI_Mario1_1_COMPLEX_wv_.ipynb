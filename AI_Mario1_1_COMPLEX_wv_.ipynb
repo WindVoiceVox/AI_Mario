{
  "cells": [
    {
      "cell_type": "markdown",
      "metadata": {
        "id": "view-in-github",
        "colab_type": "text"
      },
      "source": [
        "<a href=\"https://colab.research.google.com/github/WindVoiceVox/AI_Mario/blob/main/AI_Mario1_1_COMPLEX_wv_.ipynb\" target=\"_parent\"><img src=\"https://colab.research.google.com/assets/colab-badge.svg\" alt=\"Open In Colab\"/></a>"
      ]
    },
    {
      "cell_type": "markdown",
      "metadata": {
        "id": "pwt2grWo29ih"
      },
      "source": [
        "---\n",
        "# 強化学習を用いたマリオの訓練 \n",
        "======\n",
        "\n",
        "【原題】Train a MARIO-Playing RL Agent\n",
        "\n",
        "【元URL】https://pytorch.org/tutorials/intermediate/mario_rl_tutorial.html\n",
        "\n",
        "【原著】[Yuansong Feng](https://github.com/YuansongFeng), [Suraj Subramanian](https://github.com/suraj813), [Howard Wang](https://github.com/hw26), [Steven Guo](https://github.com/GuoYuzhang)\n",
        "\n",
        "【翻訳】電通国際情報サービスISID AIトランスフォーメーションセンター　御手洗 拓真\n",
        "\n",
        "【日付】2020年12月22日\n",
        "\n",
        "【チュトーリアル概要】\n",
        "\n",
        "\n",
        "「スーパー・マリオ・ブラザーズ」をプレイするAIマリオの実装を通じて、深層強化学習の基本について解説します。\n",
        "\n",
        "<br>\n",
        "\n",
        "（日本語版参考記事）\n",
        "\n",
        "[からあげさん@karaage0703](https://twitter.com/karaage0703)の、\n",
        "[Qiita記事：深層強化学習でAIマリオのクリアにチャレンジしてみた](https://qiita.com/karaage0703/items/e237887894f0f1382d58)\n",
        "\n",
        "（このNotebookについて）\n",
        "\n",
        "このNotebookのコードとコメントはWindVoiceが書き換えています。[御手洗さんの書かれた元の版はこちら](https://colab.research.google.com/github/YutaroOgawa/pytorch_tutorials_jp/blob/main/notebook/4_RL/4_2_mario_rl_tutorial_jp.ipynb#scrollTo=z4q0XF6G1jsW)）\n",
        "\n",
        "---"
      ]
    },
    {
      "cell_type": "markdown",
      "metadata": {
        "id": "ixe_U8H7_AOq"
      },
      "source": [
        "### WindVoiceが加えた主な変更点:\n",
        "\n",
        "本質的なところは何も変わっていません。パラメータの調整と多少のユーティリティ的なコードを書き加えました。RLに関する解説はWindVoiceが書き換えると劣化するだけなので元の翻訳版をそのままに、折りたためるように章をつけました。\n",
        "\n",
        "1.  GPU上のメモリが16GBの場合、Mario.memoryが大きすぎてepisode=320付近でCUDAがメモリ不足となりプログラムが異常終了していました。Mario.memoryのキューサイズを57800まで下げて継続的な学習ができるようにしました。\n",
        "2.   「学習結果の復元」を作って過去の学習結果を引き継げるようにしました。Mario.memoryはサイズが大きすぎて保存できない(16GB近くある)ので、完全な再現はできないことに注意してください。復元後、300エピソード程度はMario.memoryに十分な情報がないため学習に影響していると思われます。\n",
        "3.  Google Driveをマウントして途中経過を保存できるようにしました。\n",
        "4.  動画を撮るための「本番」は、εを小さくできるようにしたほうが良さそうなのでMario.act()にepsilon引数を指定できるようにしました。\n",
        "5.  【未】Mario.act()を改造して、εをカスタマイズできるようにして実験してみたいです。右へスクロールするほどεを大きくしないと、ステージの最初の方ばかり探索することになってしまうように思われます。\n",
        "6.  Colabから割り当てられたGPUを確認できるセルを冒頭に追加しました。無料版のColabではGPUを割り当てた場合16GBメモリ版が使えるようです。\n",
        "7.  env.step()を確認して、rewardがどのように計算されているかを調べました。このNotebook内のclass SkipFrameからアクセスされています。gym-super-mario-brosのsmb_env.pyにSuperMarioBrosEnv._get_reward() というのがある。\n",
        "8.  【未】何人目のマリオかをトータルでカウントできる仕組みがほしいです。単に記録のためです。"
      ]
    },
    {
      "cell_type": "markdown",
      "metadata": {
        "id": "gqOmYW2yqrrW"
      },
      "source": [
        "---\n",
        "### 報酬(reward)の仕組みについて\n",
        "\n",
        "[gym-super-mario-bros](https://github.com/Kautenja/gym-super-mario-bros/blob/master/gym_super_mario_bros/smb_env.py)の元のソースコードに含まれます。\n",
        "\n",
        "ステップごとに-15から15までの報酬を得る可能性がある……　ような記載がありますが、実際に制限している部分が見つかりません。具体的な計算式は、①マリオのX座標、②時間の経過、③死亡によって決まっており、フラッグ（ゴール）をとってもプラスになっていません。敵を倒しても、コインをとってもプラスになっていません。そういうものかな。\n",
        "\n",
        "X座標による報酬は-5から5の間でステップごとに計算されています。\n",
        "\n",
        "時間の経過ペナルティはゲーム画面右上のTIMEが減るごとに-1されています。\n",
        "\n",
        "死亡ペナルティは-25で固定値です。\n",
        "\n",
        "なお、報酬をカスタマイズしたくなったら、このNotebook内「学習の実施」の項の中ですると良いと思います。\n",
        "\n",
        "---"
      ]
    },
    {
      "cell_type": "markdown",
      "metadata": {
        "id": "3lrEO9P_fpyV"
      },
      "source": [
        "# (1) 実行環境の確認"
      ]
    },
    {
      "cell_type": "markdown",
      "metadata": {
        "id": "yc3fqnXhpG6U"
      },
      "source": [
        "①GPUのメモリを開放できないかとgcを試してみたが、効果はなかった。"
      ]
    },
    {
      "cell_type": "code",
      "execution_count": null,
      "metadata": {
        "colab": {
          "base_uri": "https://localhost:8080/"
        },
        "id": "eKkTVTLxVjWK",
        "outputId": "368fc7f7-6dc0-4f79-dd47-66a04866188c"
      },
      "outputs": [
        {
          "data": {
            "text/plain": [
              "74"
            ]
          },
          "execution_count": 1,
          "metadata": {},
          "output_type": "execute_result"
        }
      ],
      "source": [
        "import gc\n",
        "gc.collect()"
      ]
    },
    {
      "cell_type": "markdown",
      "metadata": {
        "id": "4H2txXidoKhO"
      },
      "source": [
        "②GPUtilはGPUの情報をとれる。どの程度GPU上のメモリが消費されているかわかる。<br />\n",
        "　このAIマリオでは、Mario.memoryが多くの場所を占めている。"
      ]
    },
    {
      "cell_type": "code",
      "execution_count": null,
      "metadata": {
        "colab": {
          "base_uri": "https://localhost:8080/"
        },
        "id": "O83JhRntVx5Z",
        "outputId": "6328cb4f-40e0-4d47-86f3-7e1d9f1d674d"
      },
      "outputs": [
        {
          "name": "stdout",
          "output_type": "stream",
          "text": [
            "Collecting GPUtil\n",
            "  Downloading GPUtil-1.4.0.tar.gz (5.5 kB)\n",
            "Building wheels for collected packages: GPUtil\n",
            "  Building wheel for GPUtil (setup.py) ... \u001b[?25l\u001b[?25hdone\n",
            "  Created wheel for GPUtil: filename=GPUtil-1.4.0-py3-none-any.whl size=7411 sha256=cade95bb35588d9f753ecc2e540604cea200e127c59b77848323c2acc7e90b7a\n",
            "  Stored in directory: /root/.cache/pip/wheels/6e/f8/83/534c52482d6da64622ddbf72cd93c35d2ef2881b78fd08ff0c\n",
            "Successfully built GPUtil\n",
            "Installing collected packages: GPUtil\n",
            "Successfully installed GPUtil-1.4.0\n"
          ]
        }
      ],
      "source": [
        "!pip install GPUtil"
      ]
    },
    {
      "cell_type": "code",
      "execution_count": null,
      "metadata": {
        "colab": {
          "base_uri": "https://localhost:8080/"
        },
        "id": "23jGMvHCWF4H",
        "outputId": "28514306-bd69-496d-8623-6d900bf2c4b0"
      },
      "outputs": [
        {
          "name": "stdout",
          "output_type": "stream",
          "text": [
            "| ID | GPU | MEM |\n",
            "------------------\n",
            "|  0 |  0% |  0% |\n"
          ]
        }
      ],
      "source": [
        "import GPUtil\n",
        "GPUtil.showUtilization()"
      ]
    },
    {
      "cell_type": "markdown",
      "metadata": {
        "id": "DDzJwSMGqhm7"
      },
      "source": [
        "③Google Colabから割り当てられているマシンの、GPUの種類を確認する。Tesla P100が多いみたい。"
      ]
    },
    {
      "cell_type": "code",
      "execution_count": null,
      "metadata": {
        "colab": {
          "base_uri": "https://localhost:8080/"
        },
        "id": "ouLG3VJ525pj",
        "outputId": "4c6d2b78-2f27-42bf-c57d-3a5633bb1292"
      },
      "outputs": [
        {
          "name": "stdout",
          "output_type": "stream",
          "text": [
            "Tue Jan  4 12:57:18 2022       \n",
            "+-----------------------------------------------------------------------------+\n",
            "| NVIDIA-SMI 495.44       Driver Version: 460.32.03    CUDA Version: 11.2     |\n",
            "|-------------------------------+----------------------+----------------------+\n",
            "| GPU  Name        Persistence-M| Bus-Id        Disp.A | Volatile Uncorr. ECC |\n",
            "| Fan  Temp  Perf  Pwr:Usage/Cap|         Memory-Usage | GPU-Util  Compute M. |\n",
            "|                               |                      |               MIG M. |\n",
            "|===============================+======================+======================|\n",
            "|   0  Tesla T4            Off  | 00000000:00:04.0 Off |                    0 |\n",
            "| N/A   37C    P8     9W /  70W |      0MiB / 15109MiB |      0%      Default |\n",
            "|                               |                      |                  N/A |\n",
            "+-------------------------------+----------------------+----------------------+\n",
            "                                                                               \n",
            "+-----------------------------------------------------------------------------+\n",
            "| Processes:                                                                  |\n",
            "|  GPU   GI   CI        PID   Type   Process name                  GPU Memory |\n",
            "|        ID   ID                                                   Usage      |\n",
            "|=============================================================================|\n",
            "|  No running processes found                                                 |\n",
            "+-----------------------------------------------------------------------------+\n"
          ]
        }
      ],
      "source": [
        "gpu_info = !nvidia-smi\n",
        "gpu_info = '\\n'.join(gpu_info)\n",
        "if gpu_info.find('failed') >= 0:\n",
        "  print('Not connected to a GPU')\n",
        "else:\n",
        "  print(gpu_info)"
      ]
    },
    {
      "cell_type": "markdown",
      "metadata": {
        "id": "6vu1yQoKounW"
      },
      "source": [
        "④仮想マシン自体に割り当てられているメモリ。13.6GBとちょっと中途半端に見える。"
      ]
    },
    {
      "cell_type": "code",
      "execution_count": null,
      "metadata": {
        "colab": {
          "base_uri": "https://localhost:8080/"
        },
        "id": "zPw9Xu7w3PLJ",
        "outputId": "8b058ef0-70d3-48b2-c567-9be7a34b4c79"
      },
      "outputs": [
        {
          "name": "stdout",
          "output_type": "stream",
          "text": [
            "Your runtime has 13.6 gigabytes of available RAM\n",
            "\n",
            "Not using a high-RAM runtime\n"
          ]
        }
      ],
      "source": [
        "from psutil import virtual_memory\n",
        "ram_gb = virtual_memory().total / 1e9\n",
        "print('Your runtime has {:.1f} gigabytes of available RAM\\n'.format(ram_gb))\n",
        "\n",
        "if ram_gb < 20:\n",
        "  print('Not using a high-RAM runtime')\n",
        "else:\n",
        "  print('You are using a high-RAM runtime!')"
      ]
    },
    {
      "cell_type": "markdown",
      "metadata": {
        "id": "n3zBP1AxpThW"
      },
      "source": [
        "# (2) 保存先を用意（Google Drive）"
      ]
    },
    {
      "cell_type": "markdown",
      "metadata": {
        "id": "vPTdB3ttfvWE"
      },
      "source": [
        "Google Driveを接続して保存先を作成する。"
      ]
    },
    {
      "cell_type": "code",
      "execution_count": null,
      "metadata": {
        "colab": {
          "base_uri": "https://localhost:8080/"
        },
        "id": "1qUNmH6mfolb",
        "outputId": "ae7d479f-1d67-40f6-82e1-5eb2cdb684d3"
      },
      "outputs": [
        {
          "name": "stdout",
          "output_type": "stream",
          "text": [
            "Mounted at /content/drive\n"
          ]
        }
      ],
      "source": [
        "from google.colab import drive\n",
        "drive.mount('/content/drive')"
      ]
    },
    {
      "cell_type": "code",
      "execution_count": null,
      "metadata": {
        "id": "SIRDGCmrgIZO"
      },
      "outputs": [],
      "source": [
        "import os"
      ]
    },
    {
      "cell_type": "code",
      "execution_count": null,
      "metadata": {
        "colab": {
          "base_uri": "https://localhost:8080/"
        },
        "id": "V4rOOPcPgb0A",
        "outputId": "829b2aa4-536a-4e4c-9752-56ca05014ab0"
      },
      "outputs": [
        {
          "name": "stdout",
          "output_type": "stream",
          "text": [
            "log dir exist.\n"
          ]
        }
      ],
      "source": [
        "LOG_DIR = '/content/drive/My Drive/gym_mario/'\n",
        "if os.path.exists(LOG_DIR):\n",
        "    print('log dir exist.')\n",
        "else:\n",
        "    print('log dir not exist.')\n",
        "    os.makedirs(LOG_DIR)"
      ]
    },
    {
      "cell_type": "markdown",
      "metadata": {
        "id": "llKTibKdq-ps"
      },
      "source": [
        "# (3) 解説"
      ]
    },
    {
      "cell_type": "markdown",
      "metadata": {
        "id": "aI1HW0gvQ608"
      },
      "source": [
        "本チュートリアルでは、深層強化学習の基本的な内容について一通り紹介します。\n",
        "\n",
        "（以下、強化学習：Reinforcement LearningをRLと表記します。）\n",
        "\n"
      ]
    },
    {
      "cell_type": "markdown",
      "metadata": {
        "id": "ikVELXAYm-iH"
      },
      "source": [
        "![](https://pytorch.org/tutorials/_images/mario.gif)"
      ]
    },
    {
      "cell_type": "markdown",
      "metadata": {
        "id": "z4q0XF6G1jsW"
      },
      "source": [
        "\n",
        "本チュートリアルを行うことで、最終的には、自力でゲームをプレイするAIマリオを実装することができます。\n",
        "\n",
        "なお、AIマリオの実装には、[Double Deep Q-Networks](https://arxiv.org/pdf/1509.06461.pdf)を使用します。\n",
        "\n",
        "\n",
        "本チュートリアルではRLについての予備知識が無くても、[RLの概念](https://spinningup.openai.com/en/latest/spinningup/rl_intro.html)について理解できるように内容を進めます。\n",
        "\n",
        "また、こちらの簡単な[チートシート](https://colab.research.google.com/drive/1eN33dPVtdPViiS1njTW_-r-IYCDTFU7N)（日本語版4_3）もRLの概念を理解するための参考として利用することができます。\n",
        "\n",
        "\n",
        "<br>\n",
        "\n",
        "なお、本チュートリアルの完全なコードは[こちら](https://github.com/yuansongFeng/MadMario/)に公開されています。"
      ]
    },
    {
      "cell_type": "markdown",
      "metadata": {
        "id": "eGovq8urmoaZ"
      },
      "source": [
        "pipでインストールするパッケージのgym-super-mario-brosのコードは[こちら](https://github.com/Kautenja/gym-super-mario-bros)"
      ]
    },
    {
      "cell_type": "code",
      "execution_count": null,
      "metadata": {
        "colab": {
          "base_uri": "https://localhost:8080/"
        },
        "id": "bkd4mMOAUbt1",
        "outputId": "c581c292-d57c-4159-ed55-c9f820da3b6b"
      },
      "outputs": [
        {
          "name": "stdout",
          "output_type": "stream",
          "text": [
            "\u001b[K     |████████████████████████████████| 198 kB 8.5 MB/s \n",
            "\u001b[K     |████████████████████████████████| 76 kB 6.6 MB/s \n",
            "\u001b[?25h  Building wheel for nes-py (setup.py) ... \u001b[?25l\u001b[?25hdone\n"
          ]
        }
      ],
      "source": [
        "# 日本語版では、OpenAI Gymのマリオ用パッケージをインストールするセルを追加しています\n",
        "!pip -q install gym-super-mario-bros==7.3.0"
      ]
    },
    {
      "cell_type": "code",
      "execution_count": null,
      "metadata": {
        "id": "zMBp7lLX5b4t"
      },
      "outputs": [],
      "source": [
        "# 日本語版では、Google Colab上でOpenAI Gymを動作させるために必要なパッケージをインストールしています\n",
        "!apt update\n",
        "!apt install xvfb\n",
        "!pip -q install pyvirtualdisplay"
      ]
    },
    {
      "cell_type": "code",
      "execution_count": null,
      "metadata": {
        "id": "cHWlwFKOPKHI"
      },
      "outputs": [],
      "source": [
        "import torch\n",
        "from torch import nn\n",
        "from torchvision import transforms as T\n",
        "from PIL import Image\n",
        "import numpy as np\n",
        "from pathlib import Path\n",
        "from collections import deque\n",
        "import random, datetime, os, copy\n",
        "\n",
        "# Gymは、Open AIのRL用ツールキットです\n",
        "import gym\n",
        "from gym.spaces import Box\n",
        "from gym.wrappers import FrameStack\n",
        "\n",
        "# OpenAI Gym用に使うNES エミュレーター\n",
        "from nes_py.wrappers import JoypadSpace\n",
        "\n",
        "#OpenAI Gymのスーパー・マリオ・ブラザーズの環境\n",
        "import gym_super_mario_bros"
      ]
    },
    {
      "cell_type": "markdown",
      "metadata": {
        "id": "wgeHxz7HVYuw"
      },
      "source": [
        "### 強化学習：RLの各種用語整理\n",
        "\n",
        "**環境**：<br>\n",
        "エージェントが相互作用をする対象であり、また、エージェントが学習を行う対象でもある世界です。\n",
        "<br>\n",
        "\n",
        "**行動** $a$ : <br>\n",
        "エージェントが環境に対して行う働きかけです。<br>\n",
        "エージェントが取りうる全ての行動の集合を「行動空間」と呼びます。\n",
        "<br>\n",
        "\n",
        "**状態** $s$：<br>\n",
        "環境の現在の状況です。<br>\n",
        "環境が成り得る全ての状態の集合を「状態空間」と呼びます。\n",
        "<br>\n",
        "\n",
        "**報酬** $r$：<br>\n",
        "報酬は、環境からエージェントに対するフィードバックです。<br>\n",
        "この報酬によってエージェントは学習し、行動選択を変えていきます。<br>\n",
        "複数のタイムステップにわたる報酬の集合は、**利得**と呼ばれます。\n",
        "<br>\n",
        "\n",
        "**行動価値関数** $Q∗(s,a)$ : <br>\n",
        "$Q$ は、状態 $s$の時にエージェントが任意の行動$a$を取り、さらに将来のタイムステップにわたって利得を最大化する行動を取った場合の、利得の期待値を返す関数です。<br>\n",
        "すなわち、$Q$ はある状態 $s$での行動$a$の「質」を表していると言えます。<br>\n",
        "この関数を近似した関数を作成することで、次の行動の「質」を評価して行動選択が行えるようになります。<br>"
      ]
    },
    {
      "cell_type": "markdown",
      "metadata": {
        "id": "IzaXrzDM20ew"
      },
      "source": [
        "## (3-1) 環境"
      ]
    },
    {
      "cell_type": "markdown",
      "metadata": {
        "id": "E05HX02Ab4au"
      },
      "source": [
        "### 環境の初期化\n",
        "\n",
        "ゲーム「スーパー・マリオ・ブラザーズ」の環境は、土管やキノコなどの要素で構成されています。\n",
        "\n",
        "マリオが行動を起こすと、環境はエージェントに対し、行動の結果の情報を返します。\n",
        "\n",
        "具体的には、環境は次の状態（＝行動によって変化した1step後の状態）や、報酬などの情報をエージェントに返すことになります。"
      ]
    },
    {
      "cell_type": "code",
      "execution_count": null,
      "metadata": {
        "colab": {
          "base_uri": "https://localhost:8080/"
        },
        "id": "lP3htmWUPKHL",
        "outputId": "37db806b-7ea4-41e6-c4d2-5310a6ab5a07"
      },
      "outputs": [
        {
          "name": "stdout",
          "output_type": "stream",
          "text": [
            "(240, 256, 3),\n",
            " 0,\n",
            " False,\n",
            " {'coins': 0, 'flag_get': False, 'life': 2, 'score': 0, 'stage': 1, 'status': 'small', 'time': 400, 'world': 1, 'x_pos': 40, 'x_pos_screen': 40, 'y_pos': 79}\n"
          ]
        }
      ],
      "source": [
        "# スーパー・マリオの環境を初期化\n",
        "env = gym_super_mario_bros.make(\"SuperMarioBros-1-1-v0\")\n",
        "\n",
        "# 行動空間を以下に制限\n",
        "#   0. 右に歩く\n",
        "#   1. 右方向にジャンプ\n",
        "# https://github.com/Kautenja/gym-super-mario-bros/blob/master/gym_super_mario_bros/actions.py\n",
        "# AIマリオ第１世代の設定は以下\n",
        "#env = JoypadSpace(env, [[\"right\"], [\"right\", \"A\"]])\n",
        "from gym_super_mario_bros.actions import RIGHT_ONLY\n",
        "from gym_super_mario_bros.actions import SIMPLE_MOVEMENT\n",
        "from gym_super_mario_bros.actions import COMPLEX_MOVEMENT\n",
        "# 2→12へ大幅増（何もしない、右、右＋A、右＋B、右＋AB、左、左＋A、左+AB、下、上）\n",
        "env = JoypadSpace(env, COMPLEX_MOVEMENT)\n",
        "\n",
        "env.reset()\n",
        "next_state, reward, done, info = env.step(action=0)\n",
        "print(f\"{next_state.shape},\\n {reward},\\n {done},\\n {info}\")"
      ]
    },
    {
      "cell_type": "markdown",
      "metadata": {
        "id": "WQlrW7CxcpdH"
      },
      "source": [
        "### 環境の前処理\n",
        "\n",
        "環境の状態に関する情報は、`next_state`変数を通じてエージェントに返されます。\n",
        "\n",
        "上記のセルの出力結果から分かるように、各状態は [`3`,` 240`, `256`] というサイズの配列で表されます。\n",
        "\n",
        "（日本語訳注：`next_state`にはゲームのプレイ画面に関する情報が格納されており、[`3`,` 240`, `256`]という配列はそれぞれ、画面の[チャネル数, 高さ、幅]を示しています。）\n",
        "\n"
      ]
    },
    {
      "cell_type": "markdown",
      "metadata": {
        "id": "YF_HigXl3CWH"
      },
      "source": [
        "このような環境の情報は、ほとんどの場合、実際にエージェントが必要とするよりも情報が過多となっています。\n",
        "\n",
        "例えば、パイプの色や空の色といった情報はマリオの行動選択には影響しないため、エージェントにとっては不要な情報です。"
      ]
    },
    {
      "cell_type": "code",
      "execution_count": null,
      "metadata": {
        "colab": {
          "base_uri": "https://localhost:8080/"
        },
        "id": "OJ-fHsIRe1YF",
        "outputId": "0ca031fe-a608-4be0-f911-fe955b5dd2a5"
      },
      "outputs": [
        {
          "data": {
            "text/plain": [
              "<matplotlib.image.AxesImage at 0x7f86b078a8d0>"
            ]
          },
          "execution_count": 13,
          "metadata": {},
          "output_type": "execute_result"
        },
        {
          "data": {
            "image/png": "[encoded data removed]",
            "text/plain": [
              "<Figure size 432x288 with 1 Axes>"
            ]
          },
          "metadata": {},
          "output_type": "display_data"
        }
      ],
      "source": [
        "# 日本語版では、上記のnext_stateを可視化した様子をサンプルとして掲載します\n",
        "import matplotlib.pyplot as plt\n",
        "plt.axis('off')\n",
        "plt.imshow(next_state)"
      ]
    },
    {
      "cell_type": "markdown",
      "metadata": {
        "id": "XrxQhJPIWWe7"
      },
      "source": [
        "そこで利用されるのが**ラッパー（Wrapper）**です。\n",
        "\n",
        "ラッパーは、エージェントにデータを渡す前に、環境から返されるデータに対して前処理を行います。\n",
        "\n",
        "\n"
      ]
    },
    {
      "cell_type": "markdown",
      "metadata": {
        "id": "i6QIGH3D3fOJ"
      },
      "source": [
        "以下の実装の`GrayScaleObservation`は、RGB画像をグレースケールに変換するためによく使われるラッパーです。\n",
        "\n",
        "これにより、有用な情報を失うことなく状態を表すデータのサイズを縮小することができます。\n",
        "\n",
        "この処理を適用すると、状態のサイズは[`1`, `240`, `256`]になります。\n",
        "\n"
      ]
    },
    {
      "cell_type": "markdown",
      "metadata": {
        "id": "id9Iy12J3Q0h"
      },
      "source": [
        "\n",
        "`ResizeObservation`は、各`observation`を正方形の画像にダウンサンプリングします。\n",
        "\n",
        "この処理を適用すると、状態のサイズは[1, 84, 84]になります。\n",
        "\n"
      ]
    },
    {
      "cell_type": "markdown",
      "metadata": {
        "id": "oO3I2E4B3alI"
      },
      "source": [
        "\n",
        "\n",
        "`SkipFrame`は`gym.Wrapper`を継承し、`step()`関数を実装したカスタムのラッパーです。\n",
        "\n",
        "連続しているフレームはそこまで変化しないため、必要な情報をあまり失うことなく、連続したフレームの間にある、nフレームをスキップすることができます。\n",
        "\n",
        "このとき、スキップした各フレームごとの報酬は蓄積され、n番目のフレームに集約されます。\n",
        "\n",
        "\n",
        "`FrameStack`は、連続したフレームを1つにまとめ、それを学習モデルに入力できるラッパーです。\n",
        "\n",
        "このようにすることで、マリオが着地中なのか、あるいはジャンプしているのかかを、前の数フレームの動きの方向から識別することができます。"
      ]
    },
    {
      "cell_type": "markdown",
      "metadata": {
        "id": "aIpCDDDwlL0s"
      },
      "source": [
        "### ステップと報酬"
      ]
    },
    {
      "cell_type": "code",
      "execution_count": null,
      "metadata": {
        "id": "RruZEHkgPKHM"
      },
      "outputs": [],
      "source": [
        "class SkipFrame(gym.Wrapper):\n",
        "    def __init__(self, env, skip):\n",
        "        \"\"\"スキップした後のフレームのみを返す\"\"\"\n",
        "        super().__init__(env)\n",
        "        self._skip = skip\n",
        "\n",
        "    def step(self, action):\n",
        "        \"\"\"行動を繰り返し、報酬を合計する\"\"\"\n",
        "        total_reward = 0.0\n",
        "        done = False\n",
        "        for i in range(self._skip):\n",
        "            # 報酬を蓄積し、同じ行動を繰り返す\n",
        "            obs, reward, done, info = self.env.step(action)\n",
        "            total_reward += reward\n",
        "            if done:\n",
        "                break\n",
        "        return obs, total_reward, done, info\n",
        "\n",
        "\n",
        "class GrayScaleObservation(gym.ObservationWrapper):\n",
        "    def __init__(self, env):\n",
        "        super().__init__(env)\n",
        "        obs_shape = self.observation_space.shape[:2]\n",
        "        self.observation_space = Box(low=0, high=255, shape=obs_shape, dtype=np.uint8)\n",
        "\n",
        "    def permute_orientation(self, observation):\n",
        "        # [H, W, C] のarrayを、[C, H, W] のtensorに変換\n",
        "        observation = np.transpose(observation, (2, 0, 1))\n",
        "        observation = torch.tensor(observation.copy(), dtype=torch.float)\n",
        "        return observation\n",
        "\n",
        "    def observation(self, observation):\n",
        "        observation = self.permute_orientation(observation)\n",
        "        transform = T.Grayscale()\n",
        "        observation = transform(observation)\n",
        "        return observation\n",
        "\n",
        "\n",
        "class ResizeObservation(gym.ObservationWrapper):\n",
        "    def __init__(self, env, shape):\n",
        "        super().__init__(env)\n",
        "        if isinstance(shape, int):\n",
        "            self.shape = (shape, shape)\n",
        "        else:\n",
        "            self.shape = tuple(shape)\n",
        "\n",
        "        obs_shape = self.shape + self.observation_space.shape[2:]\n",
        "        self.observation_space = Box(low=0, high=255, shape=obs_shape, dtype=np.uint8)\n",
        "\n",
        "    def observation(self, observation):\n",
        "        transforms = T.Compose(\n",
        "            [T.Resize(self.shape), T.Normalize(0, 255)]\n",
        "        )\n",
        "        observation = transforms(observation).squeeze(0)\n",
        "        return observation\n",
        "\n",
        "\n",
        "# 環境にWrapperを適用\n",
        "env = SkipFrame(env, skip=4)\n",
        "env = GrayScaleObservation(env)\n",
        "env = ResizeObservation(env, shape=84)\n",
        "env = FrameStack(env, num_stack=4)"
      ]
    },
    {
      "cell_type": "markdown",
      "metadata": {
        "id": "bmB8RJVWmDJ3"
      },
      "source": [
        "上記のラッパーを環境に適用すると、最終的な状態（ラップされた結果の状態）は、下図の左側の画像のように4つの連続したグレースケールのフレームを重ね合わせたものになります。\n",
        "\n",
        "マリオが行動を取るたびに、環境はこのような構造を持つ状態を返します。\n",
        "\n",
        "この構造は、サイズ[4, 84, 84]の3次元配列で表されます。\n"
      ]
    },
    {
      "cell_type": "markdown",
      "metadata": {
        "id": "DSVSbmi2m6QP"
      },
      "source": [
        "![image.png](data:image/png;base64,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)"
      ]
    },
    {
      "cell_type": "markdown",
      "metadata": {
        "id": "RaRPW0mvPKHO"
      },
      "source": [
        "## (3-2) エージェント\n",
        "\n",
        "ゲーム内のエージェントを表現するために、クラス「`Mario`」を作成します。\n",
        "\n",
        "マリオは、以下の内容を実施できる必要があります。\n",
        "\n",
        "- **行動する**:`act()`<br>\n",
        "最適化された方策に従い、環境の現在の状態に応じた行動を選択し、実行します。\n",
        "\n",
        "- **過去の経験を思い出す**: `cache()`と`recall()`<br>\n",
        "経験とは、（現在の状態、現在の行動、報酬、次の状態）のことを示します。<br>\n",
        "マリオは方策を更新するために、経験を一時的に記憶（*cash*）しておき、その経験を後で振り返ります（*recall*）。\n",
        "\n",
        "- **学ぶ**:`learn()`<br>\n",
        "時間をかけてより良い方策を学びます（*learn*)。\n"
      ]
    },
    {
      "cell_type": "code",
      "execution_count": null,
      "metadata": {
        "id": "0tjQ56JIPKHP"
      },
      "outputs": [],
      "source": [
        "class Mario:\n",
        "    def __init__():\n",
        "        pass\n",
        "\n",
        "    def act(self, state):\n",
        "        \"\"\"状態が与えられたとき、ε-greedy法に従って行動を選択します\"\"\"\n",
        "        pass\n",
        "\n",
        "    def cache(self, experience):\n",
        "        \"\"\"経験をメモリに追加します\"\"\"\n",
        "        pass\n",
        "\n",
        "    def recall(self):\n",
        "        \"\"\"記憶からの経験のサンプリングします\"\"\"\n",
        "        pass\n",
        "\n",
        "    def learn(self):\n",
        "        \"\"\"経験のデータのバッチで、オンラインに行動価値関数(Q)を更新します\"\"\"\n",
        "        pass"
      ]
    },
    {
      "cell_type": "markdown",
      "metadata": {
        "id": "CpfjQJL9PKHQ"
      },
      "source": [
        "以降のセクションでは、マリオのパラメータを設定し、上記の関数を定義していきます。"
      ]
    },
    {
      "cell_type": "markdown",
      "metadata": {
        "id": "4DjnMcrUPKHR"
      },
      "source": [
        "### 行動（Act）\n",
        "\n",
        "\n",
        "各状態において、エージェントは二つの方法で行動を選択します。\n",
        "\n",
        "一つは「**活用**（exploit）」で、方策に基づいて最適な行動選択を行います。\n",
        "\n",
        "もう一つは「**探索**（explore）」で、ランダムに行動を選択します。\n",
        "\n",
        "\n",
        "\n"
      ]
    },
    {
      "cell_type": "markdown",
      "metadata": {
        "id": "aCft2K4V4o4x"
      },
      "source": [
        "マリオは`self.exploration_rate`の値に基づく確率で、ランダムに行動を選ぶ「探索」を選び、行動します。\n",
        "\n",
        "一方、マリオが「活用」を選び行動する際には、`MarioNet`（本チュートリアルの「訓練」セクションで実装します）の出力をもとに、最適な行動を選び、その行動を取ることになります。\n",
        "\n",
        "---\n",
        "（追記）\n",
        "\n",
        "actはεが大きい場合、ほぼランダムにマリオを操作します。サンプル動画を撮ろうとするときほぼランダムでは悲しいので、本番用にεを指定できるようにしました。epsilon引数を指定した場合だけ、その確率が使われるようになります。世の中にある解説を読むと、本番にあってもある程度（ε=0.1など）のランダム性をもたせるのが良いようです。"
      ]
    },
    {
      "cell_type": "code",
      "execution_count": null,
      "metadata": {
        "id": "lYEGSln_PKHS"
      },
      "outputs": [],
      "source": [
        "class Mario:\n",
        "    def __init__(self, state_dim, action_dim, save_dir):\n",
        "        self.state_dim = state_dim\n",
        "        self.action_dim = action_dim\n",
        "        self.save_dir = save_dir\n",
        "\n",
        "        self.use_cuda = torch.cuda.is_available()\n",
        "\n",
        "        # 最適な行動を予測するマリオ用のDNNです。「訓練」セクションで実装します\n",
        "        self.net = MarioNet(self.state_dim, self.action_dim).float()\n",
        "        if self.use_cuda:\n",
        "            self.net = self.net.to(device=\"cuda\")\n",
        "\n",
        "        self.exploration_rate = 1\n",
        "        self.exploration_rate_decay = 0.99999975\n",
        "        self.exploration_rate_min = 0.1\n",
        "        self.curr_step = 0\n",
        "\n",
        "        self.save_every = 3e4  #  Netを保存するまでの実験ステップの数です\n",
        "\n",
        "    # カスタマイズされたε値を渡せるようにした\n",
        "    def act(self, state, epsilon=-1):\n",
        "        \"\"\"\n",
        "        状態が与えられると、ε-greedy法で行動を選択し、ステップの値を更新します\n",
        "\n",
        "        Inputs:\n",
        "            state(LazyFrame):現在の状態における一つの観測オブジェクトで、(state_dim)次元となります\n",
        "        Outputs:\n",
        "            action_idx (int): マリオが取る行動を示す整数値です\n",
        "        \"\"\"\n",
        "        if epsilon==-1:\n",
        "            # 探索（EXPLORE）\n",
        "            if np.random.rand() < self.exploration_rate:\n",
        "                action_idx = np.random.randint(self.action_dim)\n",
        "\n",
        "            # 活用（EXPLOIT）\n",
        "            else:\n",
        "                state = state.__array__()\n",
        "                if self.use_cuda:\n",
        "                    state = torch.tensor(state).cuda()\n",
        "                else:\n",
        "                    state = torch.tensor(state)\n",
        "                state = state.unsqueeze(0)\n",
        "                action_values = self.net(state, model=\"online\")\n",
        "                action_idx = torch.argmax(action_values, axis=1).item()\n",
        "        else:\n",
        "            # 探索（EXPLORE）\n",
        "            if np.random.rand() < epsilon:\n",
        "                action_idx = np.random.randint(self.action_dim)\n",
        "\n",
        "            # 活用（EXPLOIT）\n",
        "            else:\n",
        "                state = state.__array__()\n",
        "                if self.use_cuda:\n",
        "                    state = torch.tensor(state).cuda()\n",
        "                else:\n",
        "                    state = torch.tensor(state)\n",
        "                state = state.unsqueeze(0)\n",
        "                action_values = self.net(state, model=\"online\")\n",
        "                action_idx = torch.argmax(action_values, axis=1).item()\n",
        "\n",
        "        # exploration_rateを減衰させます\n",
        "        self.exploration_rate *= self.exploration_rate_decay\n",
        "        self.exploration_rate = max(self.exploration_rate_min, self.exploration_rate)\n",
        "\n",
        "        # ステップを+1します\n",
        "        self.curr_step += 1\n",
        "        return action_idx"
      ]
    },
    {
      "cell_type": "markdown",
      "metadata": {
        "id": "R6pkKSIPPKHT"
      },
      "source": [
        "### 記憶（Cashe）と振り返り（Recall）\n",
        "\n",
        "2つの関数（`cash`と`recall`）は、マリオの「メモリ（記憶）」の役割を果たします。\n",
        "\n",
        "- `cache()`:<br>\n",
        "マリオは行動を取るたびに、その経験をメモリに保存します。<br>\n",
        "経験には、現在の状態（`state`）、次の状態（`next_state`）、実行された行動（`action`）、行動からの報酬（`reward`）ゲームが終了したかどうか（`done`）が含まれています。<br>\n",
        "\n",
        "- `recall()`:<br>\n",
        "マリオは自分のメモリからランダムに経験のバッチをサンプリングし、そのバッチを使ってゲームを学習します。\n",
        "\n",
        "\n"
      ]
    },
    {
      "cell_type": "code",
      "execution_count": null,
      "metadata": {
        "id": "TUxb867HPKHU"
      },
      "outputs": [],
      "source": [
        "class Mario(Mario):  # さきほどのクラスのサブクラスとなっています\n",
        "    def __init__(self, state_dim, action_dim, save_dir):\n",
        "        super().__init__(state_dim, action_dim, save_dir)\n",
        "\n",
        "        # 100000は大きすぎて16GBのGPUではメモリ不足になるようだ。\n",
        "        # maxlenでキューの長さを制限できるので、16GBに収まるサイズに小さくする。\n",
        "        self.memory = deque(maxlen=57800)\n",
        "        self.batch_size = 32\n",
        "\n",
        "    def cache(self, state, next_state, action, reward, done):\n",
        "        \"\"\"\n",
        "        経験をself.memory (replay buffer)に保存します\n",
        "\n",
        "        Inputs:\n",
        "            state (LazyFrame),\n",
        "            next_state (LazyFrame),\n",
        "            action (int),\n",
        "            reward (float),\n",
        "            done(bool))\n",
        "        \"\"\"\n",
        "        state = state.__array__()\n",
        "        next_state = next_state.__array__()\n",
        "\n",
        "        if self.use_cuda:\n",
        "            state = torch.tensor(state).cuda()\n",
        "            next_state = torch.tensor(next_state).cuda()\n",
        "            action = torch.tensor([action]).cuda()\n",
        "            reward = torch.tensor([reward]).cuda()\n",
        "            done = torch.tensor([done]).cuda()\n",
        "        else:\n",
        "            state = torch.tensor(state)\n",
        "            next_state = torch.tensor(next_state)\n",
        "            action = torch.tensor([action])\n",
        "            reward = torch.tensor([reward])\n",
        "            done = torch.tensor([done])\n",
        "\n",
        "        self.memory.append((state, next_state, action, reward, done,))\n",
        "\n",
        "    def recall(self):\n",
        "        \"\"\"\n",
        "        メモリから経験のバッチを取得します\n",
        "        \"\"\"\n",
        "        batch = random.sample(self.memory, self.batch_size)\n",
        "        state, next_state, action, reward, done = map(torch.stack, zip(*batch))\n",
        "        return state, next_state, action.squeeze(), reward.squeeze(), done.squeeze()"
      ]
    },
    {
      "cell_type": "markdown",
      "metadata": {
        "id": "FaqUJvGaPKHV"
      },
      "source": [
        "# (4) 訓練\n"
      ]
    },
    {
      "cell_type": "markdown",
      "metadata": {
        "id": "11U29YGP1UwM"
      },
      "source": [
        "\n",
        "マリオの強化学習アルゴリズムには、[DDQNアルゴリズム](https://arxiv.org/pdf/1509.06461)を使用します。\n",
        "\n",
        "DDQNでは、$Q_{online}$と$Q_{target}$の2つのConvNetを使用します。\n",
        "\n",
        "それぞれのConvNetは、独立して最適な行動価値関数を近似します。\n"
      ]
    },
    {
      "cell_type": "markdown",
      "metadata": {
        "id": "09k4zUjX58vB"
      },
      "source": [
        "\n",
        "本チュートリアルの実装では、$Q_{online}$と$Q_{target}$は同じ特徴生成器を使っていますが、分類器としては別々に更新されることになります。\n",
        "\n",
        "$θ_{target}$（$Q_{target}$のパラメータ）は、逆伝播の際に更新されないよう、固定されます。\n",
        "\n",
        "その代わりに、$θ_{online}$の値と定期的に同期されることで、$θ_{target}$は更新されます（この点については後ほど解説します）。\n",
        "\n",
        "\n"
      ]
    },
    {
      "cell_type": "markdown",
      "metadata": {
        "id": "MGxn8os-IuoE"
      },
      "source": [
        "#### ニューラルネットワーク"
      ]
    },
    {
      "cell_type": "code",
      "execution_count": null,
      "metadata": {
        "id": "vCB2xir4PKHV"
      },
      "outputs": [],
      "source": [
        "class MarioNet(nn.Module):\n",
        "    \"\"\"\n",
        "    単純なCNN構造とし、以下の通りです\n",
        "    input -> (conv2d + relu) x 3 -> flatten -> (dense + relu) x 2 -> output\n",
        "    \"\"\"\n",
        "\n",
        "    def __init__(self, input_dim, output_dim):\n",
        "        super().__init__()\n",
        "        c, h, w = input_dim\n",
        "\n",
        "        if h != 84:\n",
        "            raise ValueError(f\"Expecting input height: 84, got: {h}\")\n",
        "        if w != 84:\n",
        "            raise ValueError(f\"Expecting input width: 84, got: {w}\")\n",
        "\n",
        "        self.online = nn.Sequential(\n",
        "            nn.Conv2d(in_channels=c, out_channels=32, kernel_size=8, stride=4),\n",
        "            nn.ReLU(),\n",
        "            nn.Conv2d(in_channels=32, out_channels=64, kernel_size=4, stride=2),\n",
        "            nn.ReLU(),\n",
        "            nn.Conv2d(in_channels=64, out_channels=64, kernel_size=3, stride=1),\n",
        "            nn.ReLU(),\n",
        "            nn.Flatten(),\n",
        "            nn.Linear(3136, 512),\n",
        "            nn.ReLU(),\n",
        "            nn.Linear(512, output_dim),\n",
        "        )\n",
        "\n",
        "        self.target = copy.deepcopy(self.online)\n",
        "\n",
        "        # Q_target のパラメータは固定されます\n",
        "        for p in self.target.parameters():\n",
        "            p.requires_grad = False\n",
        "\n",
        "    def forward(self, input, model):\n",
        "        if model == \"online\":\n",
        "            return self.online(input)\n",
        "        elif model == \"target\":\n",
        "            return self.target(input)"
      ]
    },
    {
      "cell_type": "markdown",
      "metadata": {
        "id": "_IEYhOg8JUsL"
      },
      "source": [
        "#### TD 推論値とTDターゲット\n",
        "\n",
        "訓練には、以下の2つの値を使用します。\n",
        "\n",
        "**TD 推論値** : \n",
        "\n",
        "状態$s$において最も利得が高くなる$Q^∗$ の予測値です。以下の式で表されます。\n",
        "\\begin{align}{TD}_e = Q_{online}^*(s,a)\\end{align}"
      ]
    },
    {
      "cell_type": "markdown",
      "metadata": {
        "id": "IUZNpCydNLRV"
      },
      "source": [
        "**TD ターゲット**:\n",
        "\n",
        "現在の状態$s$における報酬と、次の状態$s'$における$Q^∗$の推論結果を合計した値で、以下の式で表されます。\n",
        "\n",
        "\\begin{align}a' = argmax_{a} Q_{online}(s', a)\\end{align}\n",
        "\n",
        "\\begin{align}{TD}_t = r + \\gamma Q_{target}^*(s',a')\\end{align}\n",
        "\n",
        "実際には、現在の状態$s$からは次の状態$s'$での行動$a'$は何を採用することになるのかは不明です。\n",
        "\n",
        "そこで、次の状態$s'$において$Q_{online}$を最大化する行動 $a'$を採用することにしています。\n",
        "\n",
        "\n"
      ]
    },
    {
      "cell_type": "markdown",
      "metadata": {
        "id": "WOWYUrmw7Jid"
      },
      "source": [
        "実装においては、`td_target()`関数には[`@torch.no_grad()`](https://pytorch.org/docs/stable/generated/torch.no_grad.html#no-grad)デコレータを使用し、勾配計算を無効にしていることに注意してください。\n",
        "\n",
        "$\\theta_{target}$は逆伝播で更新される必要がないため、このようにしています。\n",
        "\n",
        "\n",
        "\n"
      ]
    },
    {
      "cell_type": "code",
      "execution_count": null,
      "metadata": {
        "id": "Y21LSj2KPKHW"
      },
      "outputs": [],
      "source": [
        "class Mario(Mario):\n",
        "    def __init__(self, state_dim, action_dim, save_dir):\n",
        "        super().__init__(state_dim, action_dim, save_dir)\n",
        "        self.gamma = 0.9\n",
        "\n",
        "    def td_estimate(self, state, action):\n",
        "        current_Q = self.net(state, model=\"online\")[\n",
        "            np.arange(0, self.batch_size), action\n",
        "        ]  # Q_online(s,a)\n",
        "        return current_Q\n",
        "\n",
        "    @torch.no_grad()\n",
        "    def td_target(self, reward, next_state, done):\n",
        "        next_state_Q = self.net(next_state, model=\"online\")\n",
        "        best_action = torch.argmax(next_state_Q, axis=1)\n",
        "        next_Q = self.net(next_state, model=\"target\")[\n",
        "            np.arange(0, self.batch_size), best_action\n",
        "        ]\n",
        "        return (reward + (1 - done.float()) * self.gamma * next_Q).float()"
      ]
    },
    {
      "cell_type": "markdown",
      "metadata": {
        "id": "hjDCD1o3PKHX"
      },
      "source": [
        "#### モデルの更新\n",
        "\n",
        "マリオはメモリからサンプリングしたデータを入力に、$TD_{t}$と$TD_{e}$を計算します。\n",
        "\n",
        "そして、以下に掲載する損失の値を$Q_{online}$に逆伝播させて、パラメータ $\\theta_{online}$を更新します。\n",
        "\n",
        "\\begin{align}\\theta_{online} \\leftarrow \\theta_{online} + \\alpha \\nabla(TD_e - TD_t)\\end{align}\n",
        "\n",
        "ここで、$\\alpha$はオプティマイザに渡される学習率`lr`を示します。\n",
        "\n"
      ]
    },
    {
      "cell_type": "markdown",
      "metadata": {
        "id": "8J9_H5jj7w7J"
      },
      "source": [
        "\n",
        "（日本語訳注：損失が$TD_{e}-TD_{t}$となっている理由について補足します。<br>\n",
        "$TD_{e}$と$TD_{t}$の差が0になるということは、「現在の状態における利得の期待値」と「実際に行動して次の状態に遷移した後の利得の期待値」の差が0になる≒Q関数が正しく構築できたことを意味するため、損失は$TD_{e}-TD_{t}$と定義されています。）"
      ]
    },
    {
      "cell_type": "markdown",
      "metadata": {
        "id": "ZjvCWgwVpMCt"
      },
      "source": [
        "一方で、逆伝播時に$\\theta_{target}$は更新されません。\n",
        "\n",
        "その代わりに、定期的に$\\theta_{online}$を$\\theta_{target}$にコピーすることで、$\\theta_{target}$は更新されます。\n",
        "\n",
        "$\\theta_{target}$更新の数式を以下に示します。\n",
        "\n",
        "\\begin{align}\\theta_{target} \\leftarrow \\theta_{online}\\end{align}\n",
        "\n",
        "\n",
        "\n",
        "\n",
        "\n"
      ]
    },
    {
      "cell_type": "markdown",
      "metadata": {
        "id": "0FfBcyyO8Fq3"
      },
      "source": [
        "（日本語訳注：$\\theta_{target}$が逆伝播の際に更新されない理由は、$Q_{target}$が頻繁に更新されると、学習が不安定になるためです。<br>\n",
        "これは、マリオが同じ場面でジャンプをした場合の評価が毎回ころころ変わってしまうと、学習が不安定になりそうとイメージすれば分かりやすいかと思います。）\n"
      ]
    },
    {
      "cell_type": "code",
      "execution_count": null,
      "metadata": {
        "id": "7BQPWhN5PKHX"
      },
      "outputs": [],
      "source": [
        "class Mario(Mario):\n",
        "    def __init__(self, state_dim, action_dim, save_dir):\n",
        "        super().__init__(state_dim, action_dim, save_dir)\n",
        "        self.optimizer = torch.optim.Adam(self.net.parameters(), lr=0.00025)\n",
        "        self.loss_fn = torch.nn.SmoothL1Loss()\n",
        "\n",
        "    def update_Q_online(self, td_estimate, td_target):\n",
        "        loss = self.loss_fn(td_estimate, td_target)\n",
        "        self.optimizer.zero_grad()\n",
        "        loss.backward()\n",
        "        self.optimizer.step()\n",
        "        return loss.item()\n",
        "\n",
        "    def sync_Q_target(self):\n",
        "        self.net.target.load_state_dict(self.net.online.state_dict())"
      ]
    },
    {
      "cell_type": "markdown",
      "metadata": {
        "id": "NHmp6_nmPKHX"
      },
      "source": [
        "#### チェックポイントの保存\n",
        "\n",
        "\n"
      ]
    },
    {
      "cell_type": "code",
      "execution_count": null,
      "metadata": {
        "id": "lB93OvuSPKHY"
      },
      "outputs": [],
      "source": [
        "class Mario(Mario):\n",
        "    def save(self):\n",
        "        save_path = (\n",
        "            self.save_dir / f\"mario_net_{int(self.curr_step // self.save_every)}.chkpt\"\n",
        "        )\n",
        "        torch.save(\n",
        "            dict(model=self.net.state_dict(), exploration_rate=self.exploration_rate),\n",
        "            save_path,\n",
        "        )\n",
        "        print(f\"MarioNet saved to {save_path} at step {self.curr_step}\")\n"
      ]
    },
    {
      "cell_type": "markdown",
      "metadata": {
        "id": "VTOyfp70PKHY"
      },
      "source": [
        "#### 全てをまとめたクラス\n",
        "\n",
        "\n"
      ]
    },
    {
      "cell_type": "code",
      "execution_count": null,
      "metadata": {
        "id": "u6MykMBSPKHY"
      },
      "outputs": [],
      "source": [
        "class Mario(Mario):\n",
        "    def __init__(self, state_dim, action_dim, save_dir):\n",
        "        super().__init__(state_dim, action_dim, save_dir)\n",
        "        self.burnin = 1e4  # 経験を訓練させるために最低限必要なステップ数\n",
        "        self.learn_every = 3  # Q_onlineを更新するタイミングを示すステップ数\n",
        "        self.sync_every = 1e4  # Q_target & Q_onlineを同期させるタイミングを示すステップ数\n",
        "\n",
        "    def learn(self):\n",
        "        if self.curr_step % self.sync_every == 0:\n",
        "            self.sync_Q_target()\n",
        "\n",
        "        if self.curr_step % self.save_every == 0:\n",
        "            self.save()\n",
        "\n",
        "        if self.curr_step < self.burnin:\n",
        "            return None, None\n",
        "\n",
        "        if self.curr_step % self.learn_every != 0:\n",
        "            return None, None\n",
        "\n",
        "        # メモリからサンプリング\n",
        "        state, next_state, action, reward, done = self.recall()\n",
        "\n",
        "        # TD Estimateの取得\n",
        "        td_est = self.td_estimate(state, action)\n",
        "\n",
        "        # TD Targetの取得\n",
        "        td_tgt = self.td_target(reward, next_state, done)\n",
        "\n",
        "        # 損失をQ_onlineに逆伝播させる\n",
        "        loss = self.update_Q_online(td_est, td_tgt)\n",
        "\n",
        "        return (td_est.mean().item(), loss)"
      ]
    },
    {
      "cell_type": "markdown",
      "metadata": {
        "id": "pMOm6tWFPKHZ"
      },
      "source": [
        "### ログの保存\n",
        "\n",
        "\n"
      ]
    },
    {
      "cell_type": "code",
      "execution_count": null,
      "metadata": {
        "id": "2F18Bh7QPKHZ"
      },
      "outputs": [],
      "source": [
        "import numpy as np\n",
        "import time, datetime\n",
        "import matplotlib.pyplot as plt\n",
        "\n",
        "\n",
        "class MetricLogger:\n",
        "    def __init__(self, save_dir):\n",
        "        self.save_log = save_dir / \"log\"\n",
        "        with open(self.save_log, \"w\") as f:\n",
        "            f.write(\n",
        "                f\"{'Episode':>8}{'Step':>8}{'Epsilon':>10}{'MeanReward':>15}\"\n",
        "                f\"{'MeanLength':>15}{'MeanLoss':>15}{'MeanQValue':>15}\"\n",
        "                f\"{'TimeDelta':>15}{'Time':>20}\\n\"\n",
        "            )\n",
        "        self.ep_rewards_plot = save_dir / \"reward_plot.jpg\"\n",
        "        self.ep_lengths_plot = save_dir / \"length_plot.jpg\"\n",
        "        self.ep_avg_losses_plot = save_dir / \"loss_plot.jpg\"\n",
        "        self.ep_avg_qs_plot = save_dir / \"q_plot.jpg\"\n",
        "\n",
        "        # 指標の履歴\n",
        "        self.ep_rewards = []\n",
        "        self.ep_lengths = []\n",
        "        self.ep_avg_losses = []\n",
        "        self.ep_avg_qs = []\n",
        "\n",
        "        # reacord()が呼び出されるたびに追加される移動平均\n",
        "        self.moving_avg_ep_rewards = []\n",
        "        self.moving_avg_ep_lengths = []\n",
        "        self.moving_avg_ep_avg_losses = []\n",
        "        self.moving_avg_ep_avg_qs = []\n",
        "\n",
        "        # 現在のエピソードの指標\n",
        "        self.init_episode()\n",
        "\n",
        "        # 時間を記録\n",
        "        self.record_time = time.time()\n",
        "\n",
        "    def log_step(self, reward, loss, q):\n",
        "        self.curr_ep_reward += reward\n",
        "        self.curr_ep_length += 1\n",
        "        if loss:\n",
        "            self.curr_ep_loss += loss\n",
        "            self.curr_ep_q += q\n",
        "            self.curr_ep_loss_length += 1\n",
        "\n",
        "    def log_episode(self):\n",
        "        \"エピソード終了時の記録\"\n",
        "        self.ep_rewards.append(self.curr_ep_reward)\n",
        "        self.ep_lengths.append(self.curr_ep_length)\n",
        "        if self.curr_ep_loss_length == 0:\n",
        "            ep_avg_loss = 0\n",
        "            ep_avg_q = 0\n",
        "        else:\n",
        "            ep_avg_loss = np.round(self.curr_ep_loss / self.curr_ep_loss_length, 5)\n",
        "            ep_avg_q = np.round(self.curr_ep_q / self.curr_ep_loss_length, 5)\n",
        "        self.ep_avg_losses.append(ep_avg_loss)\n",
        "        self.ep_avg_qs.append(ep_avg_q)\n",
        "\n",
        "        self.init_episode()\n",
        "\n",
        "    def init_episode(self):\n",
        "        self.curr_ep_reward = 0.0\n",
        "        self.curr_ep_length = 0\n",
        "        self.curr_ep_loss = 0.0\n",
        "        self.curr_ep_q = 0.0\n",
        "        self.curr_ep_loss_length = 0\n",
        "\n",
        "    def record(self, episode, epsilon, step):\n",
        "        mean_ep_reward = np.round(np.mean(self.ep_rewards[-100:]), 3)\n",
        "        mean_ep_length = np.round(np.mean(self.ep_lengths[-100:]), 3)\n",
        "        mean_ep_loss = np.round(np.mean(self.ep_avg_losses[-100:]), 3)\n",
        "        mean_ep_q = np.round(np.mean(self.ep_avg_qs[-100:]), 3)\n",
        "        self.moving_avg_ep_rewards.append(mean_ep_reward)\n",
        "        self.moving_avg_ep_lengths.append(mean_ep_length)\n",
        "        self.moving_avg_ep_avg_losses.append(mean_ep_loss)\n",
        "        self.moving_avg_ep_avg_qs.append(mean_ep_q)\n",
        "\n",
        "        last_record_time = self.record_time\n",
        "        self.record_time = time.time()\n",
        "        time_since_last_record = np.round(self.record_time - last_record_time, 3)\n",
        "\n",
        "        print(\n",
        "            f\"Episode {episode} - \"\n",
        "            f\"Step {step} - \"\n",
        "            f\"Epsilon {epsilon} - \"\n",
        "            f\"Mean Reward {mean_ep_reward} - \"\n",
        "            f\"Mean Length {mean_ep_length} - \"\n",
        "            f\"Mean Loss {mean_ep_loss} - \"\n",
        "            f\"Mean Q Value {mean_ep_q} - \"\n",
        "            f\"Time Delta {time_since_last_record} - \"\n",
        "            f\"Time {datetime.datetime.now().strftime('%Y-%m-%dT%H:%M:%S')}\"\n",
        "        )\n",
        "\n",
        "        with open(self.save_log, \"a\") as f:\n",
        "            f.write(\n",
        "                f\"{episode:8d}{step:8d}{epsilon:10.3f}\"\n",
        "                f\"{mean_ep_reward:15.3f}{mean_ep_length:15.3f}{mean_ep_loss:15.3f}{mean_ep_q:15.3f}\"\n",
        "                f\"{time_since_last_record:15.3f}\"\n",
        "                f\"{datetime.datetime.now().strftime('%Y-%m-%dT%H:%M:%S'):>20}\\n\"\n",
        "            )\n",
        "\n",
        "        for metric in [\"ep_rewards\", \"ep_lengths\", \"ep_avg_losses\", \"ep_avg_qs\"]:\n",
        "            plt.plot(getattr(self, f\"moving_avg_{metric}\"))\n",
        "            plt.savefig(getattr(self, f\"{metric}_plot\"))\n",
        "            plt.clf()"
      ]
    },
    {
      "cell_type": "markdown",
      "metadata": {
        "id": "V4ZLglLePKHa"
      },
      "source": [
        "# (5) 実践！\n",
        "もとのNotebookを作成された方によれば、【マリオが本当にゲームの世界の攻略法を学ぶためには、最低でも4万エピソードはループすることをおすすめします。】とのことです。4万ループを回すのはなかなか大変で、Google Colabで一気通貫に実行しようとすると、おそらく24時間以上かかります。Colabの実行は不意に中断されることがあるため、学習途中の状態の保存と、再開機能が必須です。簡単ながら実装しました。"
      ]
    },
    {
      "cell_type": "markdown",
      "metadata": {
        "id": "ODPmI0pcsmBJ"
      },
      "source": [
        "env.stepの一定回数ごとにGoogle Driveに学習状況が保存され、あとから追加の学習が行えるようにする。\n",
        "\n",
        "save_dirには保存されるディレクトリを指定する。"
      ]
    },
    {
      "cell_type": "code",
      "execution_count": null,
      "metadata": {
        "colab": {
          "base_uri": "https://localhost:8080/"
        },
        "id": "0MccVRzwimic",
        "outputId": "c6504d9d-dde9-4cdd-e8c0-1f8bf2537d92"
      },
      "outputs": [
        {
          "data": {
            "text/plain": [
              "PosixPath('/content/drive/My Drive/gym_mario/checkpoints/2022-01-04T22-02-10')"
            ]
          },
          "execution_count": 25,
          "metadata": {},
          "output_type": "execute_result"
        }
      ],
      "source": [
        "dt_now_JST = datetime.timezone(datetime.timedelta(hours=9))\n",
        "save_dir = Path(LOG_DIR + \"/checkpoints\") / datetime.datetime.now(dt_now_JST).strftime(\"%Y-%m-%dT%H-%M-%S\")\n",
        "save_dir.mkdir(parents=True)\n",
        "save_dir"
      ]
    },
    {
      "cell_type": "markdown",
      "metadata": {
        "id": "MoZdePdjNCzV"
      },
      "source": [
        "### Marioオブジェクトの初期化\n",
        "Marioオブジェクトを初期化したいときにこちらを実行する。\n",
        "\n",
        "過去の情報をロードする場合は、この初期化のあと、loadすること。"
      ]
    },
    {
      "cell_type": "code",
      "execution_count": null,
      "metadata": {
        "id": "qYP1qvnhgYd7"
      },
      "outputs": [],
      "source": [
        "mario = Mario(state_dim=(4, 84, 84), action_dim=env.action_space.n, save_dir=save_dir)\n",
        "logger = MetricLogger(save_dir)"
      ]
    },
    {
      "cell_type": "markdown",
      "metadata": {
        "id": "tIeNDkI7tvAs"
      },
      "source": [
        "### 学習の実施\n",
        "---\n",
        "こちらが学習のメインルーチン部分。\n",
        "\n",
        "episodesに学習に使うマリオの人数（いわゆる残機）を指定します。\n",
        "\n",
        "マリオの操作は、ε-greedy法によって決められるため、確率εでランダムに行動が決められます。つまり、εが1に近い間は、学習が進んでいないように見えても辛抱強くマリオを信じて待つ必要があると思われます。\n",
        "\n",
        "---"
      ]
    },
    {
      "cell_type": "code",
      "execution_count": null,
      "metadata": {
        "id": "oeOs-Jw6PKHa"
      },
      "outputs": [],
      "source": [
        "use_cuda = torch.cuda.is_available()\n",
        "print(f\"Using CUDA: {use_cuda}\")\n",
        "print()\n",
        "\n",
        "episodes = 15000 # 100あたり5分くらいかかります\n",
        "#reward_queue = deque(maxlen=10)\n",
        "\n",
        "for e in range(episodes):\n",
        "    state = env.reset()\n",
        "    total_reward = 0\n",
        "    # ゲーム開始！\n",
        "    while True:\n",
        "        # 現在の状態に対するエージェントの行動を決める\n",
        "        action = mario.act(state)\n",
        "        # エージェントが行動を実行\n",
        "        next_state, reward, done, info = env.step(action)\n",
        "        # ToDo: rewardをinfoを使って調整するならここでやること\n",
        "        # if info['xxx]:\n",
        "        #     reward += 10\n",
        "        # 記憶\n",
        "        mario.cache(state, next_state, action, reward, done)\n",
        "        total_reward += reward\n",
        "        # 訓練\n",
        "        q, loss = mario.learn()\n",
        "        # ログ保存\n",
        "        logger.log_step(reward, loss, q)\n",
        "        # 状態の更新\n",
        "        state = next_state\n",
        "        # ゲームが終了したかどうかを確認\n",
        "        if done or info[\"flag_get\"]:\n",
        "            if info[\"flag_get\"]:\n",
        "                # ゴールできたら知りたいですよね\n",
        "                print(f\"<<< Mario get the flag. GOOOOOAL! >>>\")\n",
        "            break\n",
        "    logger.log_episode()\n",
        "    if e % 20 == 0:\n",
        "        logger.record(episode=e, epsilon=mario.exploration_rate, step=mario.curr_step)"
      ]
    },
    {
      "cell_type": "code",
      "execution_count": null,
      "metadata": {
        "id": "vceUkMXluLtV"
      },
      "outputs": [],
      "source": [
        "help(env)"
      ]
    },
    {
      "cell_type": "code",
      "execution_count": null,
      "metadata": {
        "colab": {
          "base_uri": "https://localhost:8080/"
        },
        "id": "LaHaBTe8uoij",
        "outputId": "b8d2c91e-61c5-400c-b07e-b857468eb4d8"
      },
      "outputs": [
        {
          "data": {
            "text/plain": [
              "Box(0, 255, (4, 84, 84), uint8)"
            ]
          },
          "execution_count": 27,
          "metadata": {},
          "output_type": "execute_result"
        }
      ],
      "source": [
        "env.observation_space"
      ]
    },
    {
      "cell_type": "markdown",
      "metadata": {
        "id": "JoH63AC3epPe"
      },
      "source": [
        "### 学習結果の保存\n",
        "Google Colabを閉じてしまうと、学習結果は失われてしまいます。定期的にGoogle Driveに保存されますが、手動で学習結果を保存したいときに以下のセルを実行します。\n",
        "\n",
        "状態を復元するためロードするときは、先に上でmarioオブジェクトを作ってから学習状態の復元のセルを実行します。\n",
        "\n",
        "[参考]\n",
        "https://pytorch.org/tutorials/beginner/saving_loading_models.html"
      ]
    },
    {
      "cell_type": "code",
      "execution_count": null,
      "metadata": {
        "colab": {
          "base_uri": "https://localhost:8080/"
        },
        "id": "tgW7-b4QeoGv",
        "outputId": "8d78ed8c-18af-45a7-fa93-f0ccacdeeef5"
      },
      "outputs": [
        {
          "name": "stdout",
          "output_type": "stream",
          "text": [
            "MarioNet saved to /content/drive/My Drive/gym_mario/checkpoints/2021-12-31T22-10-09/mario_net_19.chkpt at step 1959564\n"
          ]
        }
      ],
      "source": [
        "mario.save()"
      ]
    },
    {
      "cell_type": "code",
      "execution_count": null,
      "metadata": {
        "colab": {
          "base_uri": "https://localhost:8080/",
          "height": 35
        },
        "id": "3Nzw0HkYdlQX",
        "outputId": "e35220c8-7fb7-4759-9361-80dba298accf"
      },
      "outputs": [
        {
          "name": "stdout",
          "output_type": "stream",
          "text": [
            "MarioNet saved to checkpoints/2021-12-31T11-57-37/mario_net_0.chkpt at step 160758\n"
          ]
        },
        {
          "data": {
            "application/javascript": [
              "\n",
              "    async function download(id, filename, size) {\n",
              "      if (!google.colab.kernel.accessAllowed) {\n",
              "        return;\n",
              "      }\n",
              "      const div = document.createElement('div');\n",
              "      const label = document.createElement('label');\n",
              "      label.textContent = `Downloading \"${filename}\": `;\n",
              "      div.appendChild(label);\n",
              "      const progress = document.createElement('progress');\n",
              "      progress.max = size;\n",
              "      div.appendChild(progress);\n",
              "      document.body.appendChild(div);\n",
              "\n",
              "      const buffers = [];\n",
              "      let downloaded = 0;\n",
              "\n",
              "      const channel = await google.colab.kernel.comms.open(id);\n",
              "      // Send a message to notify the kernel that we're ready.\n",
              "      channel.send({})\n",
              "\n",
              "      for await (const message of channel.messages) {\n",
              "        // Send a message to notify the kernel that we're ready.\n",
              "        channel.send({})\n",
              "        if (message.buffers) {\n",
              "          for (const buffer of message.buffers) {\n",
              "            buffers.push(buffer);\n",
              "            downloaded += buffer.byteLength;\n",
              "            progress.value = downloaded;\n",
              "          }\n",
              "        }\n",
              "      }\n",
              "      const blob = new Blob(buffers, {type: 'application/binary'});\n",
              "      const a = document.createElement('a');\n",
              "      a.href = window.URL.createObjectURL(blob);\n",
              "      a.download = filename;\n",
              "      div.appendChild(a);\n",
              "      a.click();\n",
              "      div.remove();\n",
              "    }\n",
              "  "
            ],
            "text/plain": [
              "<IPython.core.display.Javascript object>"
            ]
          },
          "metadata": {},
          "output_type": "display_data"
        },
        {
          "data": {
            "application/javascript": [
              "download(\"download_6c119cc4-cf27-4e53-8e17-cfec2fbd881d\", \"mario_net_0.chkpt\", 13487337)"
            ],
            "text/plain": [
              "<IPython.core.display.Javascript object>"
            ]
          },
          "metadata": {},
          "output_type": "display_data"
        }
      ],
      "source": [
        "# 保存結果をダウンロードしたい場合に実行。ファイルのパスは適宜変更して実行すること。\n",
        "from google.colab import files\n",
        "files.download('checkpoints/2021-12-31T11-57-37/mario_net_0.chkpt')"
      ]
    },
    {
      "cell_type": "markdown",
      "metadata": {
        "id": "RO3TvH56wqaj"
      },
      "source": [
        "### 学習結果の復元\n",
        "\n",
        "過去の状態を復元したいときは、上のMarioオブジェクトの初期化を実行したあと、下のセルを実行してオブジェクトのデータを上書きしてから、学習の実施に戻ります。"
      ]
    },
    {
      "cell_type": "code",
      "execution_count": null,
      "metadata": {
        "id": "ljENJI-CvOch"
      },
      "outputs": [],
      "source": [
        "LOAD_PATH = '/content/drive/My Drive/gym_mario/checkpoints/2022-01-03T21-40-09/mario_net_88.chkpt'\n",
        "#torch.load(LOAD_PATH, dict(model=mario.net.state_dict(), exploration_rate=mario.exploration_rate))"
      ]
    },
    {
      "cell_type": "code",
      "execution_count": null,
      "metadata": {
        "id": "gcgYRBQiewbu"
      },
      "outputs": [],
      "source": [
        "# checkpointからデータを読み込み\n",
        "loaded_data = torch.load(LOAD_PATH)\n",
        "# marioオブジェクトに値をロード\n",
        "mario.net.load_state_dict(loaded_data['model'])\n",
        "mario.exploration_rate = loaded_data['exploration_rate']\n",
        "# mario.net.eval()"
      ]
    },
    {
      "cell_type": "markdown",
      "metadata": {
        "id": "fMBvVzbsuZS9"
      },
      "source": [
        "# (6) AIプレイ動画の作成\n",
        "\n",
        "\n",
        "\n"
      ]
    },
    {
      "cell_type": "markdown",
      "metadata": {
        "id": "GNMIGxUjyNQw"
      },
      "source": [
        "まず下のセルを実行して、ある程度良いtotal_rewardがでるまで繰り返し実行します。\n",
        "\n",
        "3000くらいで1-1をクリアできるらしいです（未確認）。"
      ]
    },
    {
      "cell_type": "code",
      "execution_count": null,
      "metadata": {
        "colab": {
          "base_uri": "https://localhost:8080/"
        },
        "id": "g1bOWpF8uyTs",
        "outputId": "60cb5796-9613-47c5-cb73-60dea1478f36"
      },
      "outputs": [
        {
          "name": "stdout",
          "output_type": "stream",
          "text": [
            "<<< Mario get the flag. GOOOOOAL! >>>\n",
            "num_step:  453, reward:  3031\n",
            "success!\n"
          ]
        }
      ],
      "source": [
        "# 日本語版追加：訓練後の様子\n",
        "import gym\n",
        "from IPython import display\n",
        "from pyvirtualdisplay import Display\n",
        "import matplotlib.pyplot as plt\n",
        "from matplotlib import animation\n",
        "\n",
        "# カラー画像表示用の環境\n",
        "# マリオ環境の場合、初期状態にランダム性がないので、独立用意で良いですが、\n",
        "# クリボーの初期位置などが毎回ランダムに変わる場合は、envとenv_colorの整合性をきちんと取る必要があります\n",
        "# 今回は、これで問題ありません。\n",
        "env_color = gym_super_mario_bros.make(\"SuperMarioBros-1-1-v0\")\n",
        "env_color = JoypadSpace(env_color, COMPLEX_MOVEMENT)  # 行動空間を制限 0. 右に歩く、 1. 右方向にジャンプ\n",
        "\n",
        "# このrewardを超えるか、ゴールできたら「成功」とする\n",
        "success_reward = 4000\n",
        "\n",
        "while True:\n",
        "    # 環境と状態を初期化します\n",
        "    state_color = env_color.reset()\n",
        "    state = env.reset()\n",
        "\n",
        "    # 動画作成用の画像を溜めるリスト\n",
        "    d = Display()\n",
        "    d.start()\n",
        "    img = []\n",
        "    img_color=[]\n",
        "    # うまくいった？\n",
        "    total_reward = 0\n",
        "    # step数\n",
        "    num_step = 0\n",
        "\n",
        "    # ゲーム開始！\n",
        "    while True:\n",
        "        # 現在の状態に対するエージェントの行動を決める\n",
        "        action = mario.act(state, epsilon=0.1)\n",
        "        # エージェントが行動を実行\n",
        "        next_state, reward, done, info = env.step(action)\n",
        "        total_reward += reward\n",
        "        # 「本番」は学習せず、記録にも残さない。\n",
        "        # 記憶\n",
        "        # mario.cache(state, next_state, action, reward, done)\n",
        "        # 訓練\n",
        "        # q, loss = mario.learn()\n",
        "        # ログ保存\n",
        "        # logger.log_step(reward, loss, q)\n",
        "        # 動画化に毎step描画を追加\n",
        "        display.clear_output(wait=True)\n",
        "        # grayscaleの画像をRGBの画像に変換\n",
        "        rgb_img = np.stack((state[0],)*3,axis=0).transpose(1,2,0)\n",
        "        img.append(rgb_img)\n",
        "        # カラー画像用（4 skipしているので4回同じ行動をします）\n",
        "        for i in range(4):\n",
        "            next_state_color, _, done, _ = env_color.step(action)\n",
        "            if done:\n",
        "                break\n",
        "        \n",
        "        display.clear_output(wait=True)\n",
        "        rgb_img_color = np.stack(state_color, axis=0)\n",
        "        img_color.append(rgb_img_color)\n",
        "        state_color = next_state_color\n",
        "\n",
        "        # 状態の更新\n",
        "        state = next_state\n",
        "        num_step+=1\n",
        "\n",
        "        # ゲームが終了したかどうかを確認\n",
        "        if done or info[\"flag_get\"]:\n",
        "            if info[\"flag_get\"]:\n",
        "                print(f\"<<< Mario get the flag. GOOOOOAL! >>>\")\n",
        "            break\n",
        "\n",
        "    #logger.log_episode()\n",
        "    #logger.record(episode=e, epsilon=mario.exploration_rate, step=mario.curr_step)\n",
        "    print(\"num_step: %4d, reward: %5d\" % ( num_step, total_reward))\n",
        "\n",
        "    # 成功するまで繰り返し\n",
        "    if total_reward > success_reward or info[\"flag_get\"]:\n",
        "        print(\"success!\")\n",
        "        break"
      ]
    },
    {
      "cell_type": "markdown",
      "metadata": {
        "id": "tI3FgtzsycNl"
      },
      "source": [
        "ある程度高いrewardがでたら、その状態を動画に変換します。もとのNotebookではgif動画にしていましたが、これはサイズが大きくなることが多く難しいので、mp4にしています。作成後は、動画ファイルがブラウザにダウンロードされます。"
      ]
    },
    {
      "cell_type": "code",
      "execution_count": null,
      "metadata": {
        "colab": {
          "background_save": true
        },
        "id": "KKL3CS-FBQ2v"
      },
      "outputs": [],
      "source": [
        "# カラーでの動画を表示\n",
        "import matplotlib.animation\n",
        "matplotlib.rcParams['animation.embed_limit'] = 2**128\n",
        "\n",
        "dpi = 72\n",
        "interval = 50 # ms\n",
        "\n",
        "plt.figure(figsize=(240/dpi, 256/dpi), dpi=dpi)  # 修正\n",
        "patch = plt.imshow(img_color[0])\n",
        "\n",
        "animate = lambda i: patch.set_data(img_color[i])\n",
        "ani = animation.FuncAnimation(plt.gcf(), animate, frames=len(img_color), interval=interval)\n",
        "ani.save('ai_mario.mp4')\n",
        "#ani.save('ai_mario.gif')\n",
        "display.display(display.HTML(ani.to_jshtml()))\n",
        "plt.close()\n",
        "\n",
        "# ダウンロード\n",
        "from google.colab import files\n",
        "files.download('ai_mario.mp4')\n",
        "#files.download('ai_mario.gif')"
      ]
    },
    {
      "cell_type": "code",
      "execution_count": null,
      "metadata": {
        "colab": {
          "base_uri": "https://localhost:8080/"
        },
        "id": "iMiCt9BVCzr5",
        "outputId": "6e06925e-6917-41d4-cd81-bd40d1ee4d97"
      },
      "outputs": [
        {
          "data": {
            "text/plain": [
              "<matplotlib.animation.FuncAnimation at 0x7f77f06bfc50>"
            ]
          },
          "execution_count": 115,
          "metadata": {},
          "output_type": "execute_result"
        }
      ],
      "source": [
        "ani"
      ]
    },
    {
      "cell_type": "markdown",
      "metadata": {
        "id": "4imZHhVG5v3V"
      },
      "source": [
        "日本語版追加：\n",
        "\n",
        "以上\n",
        "\n",
        "---"
      ]
    },
    {
      "cell_type": "markdown",
      "metadata": {
        "id": "mMiIWSeXPKHb"
      },
      "source": [
        "## おわりに\n",
        "本チュートリアルでは、PyTorchを使ってゲームをプレイするAIを訓練する方法をご紹介しました。\n",
        "\n",
        "同様の方法で、[OpenAI Gym](https://gym.openai.com)の他のゲームをプレイするAIも訓練することができます。\n",
        "\n",
        "<br>\n",
        "\n",
        "本チュートリアルを楽しんで頂けたでしょうか？\n",
        "\n",
        "気になる点があれば、[私たち原著者らのgithub](https://github.com/yuansongFeng/MadMario/)に気軽にお問い合わせください！\n",
        "\n"
      ]
    }
  ],
  "metadata": {
    "accelerator": "GPU",
    "colab": {
      "collapsed_sections": [
        "3lrEO9P_fpyV",
        "n3zBP1AxpThW",
        "FaqUJvGaPKHV",
        "JoH63AC3epPe"
      ],
      "name": "AI_Mario1_1_COMPLEX_wv_.ipynb",
      "provenance": [],
      "toc_visible": true,
      "include_colab_link": true
    },
    "kernelspec": {
      "display_name": "Python 3",
      "language": "python",
      "name": "python3"
    },
    "language_info": {
      "codemirror_mode": {
        "name": "ipython",
        "version": 3
      },
      "file_extension": ".py",
      "mimetype": "text/x-python",
      "name": "python",
      "nbconvert_exporter": "python",
      "pygments_lexer": "ipython3",
      "version": "3.6.8"
    }
  },
  "nbformat": 4,
  "nbformat_minor": 0
}